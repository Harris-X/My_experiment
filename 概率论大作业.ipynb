{
 "cells": [
  {
   "cell_type": "code",
   "execution_count": 1,
   "id": "d8953b02",
   "metadata": {
    "ExecuteTime": {
     "end_time": "2022-01-16T14:04:38.286624Z",
     "start_time": "2022-01-16T14:04:37.190291Z"
    }
   },
   "outputs": [
    {
     "name": "stdout",
     "output_type": "stream",
     "text": [
      "Looking in indexes: https://pypi.douban.com/simple/\n",
      "Requirement already satisfied: sklearn in c:\\programdata\\miniconda3\\lib\\site-packages (0.0)\n",
      "Requirement already satisfied: scikit-learn in c:\\programdata\\miniconda3\\lib\\site-packages (from sklearn) (1.0.2)\n",
      "Requirement already satisfied: scipy>=1.1.0 in c:\\programdata\\miniconda3\\lib\\site-packages (from scikit-learn->sklearn) (1.7.1)\n",
      "Requirement already satisfied: numpy>=1.14.6 in c:\\programdata\\miniconda3\\lib\\site-packages (from scikit-learn->sklearn) (1.22.1)\n",
      "Requirement already satisfied: joblib>=0.11 in c:\\programdata\\miniconda3\\lib\\site-packages (from scikit-learn->sklearn) (1.1.0)\n",
      "Requirement already satisfied: threadpoolctl>=2.0.0 in c:\\programdata\\miniconda3\\lib\\site-packages (from scikit-learn->sklearn) (3.0.0)\n"
     ]
    },
    {
     "name": "stderr",
     "output_type": "stream",
     "text": [
      "WARNING: Ignoring invalid distribution -umpy (c:\\programdata\\miniconda3\\lib\\site-packages)\n",
      "WARNING: Ignoring invalid distribution -umpy (c:\\programdata\\miniconda3\\lib\\site-packages)\n",
      "WARNING: Ignoring invalid distribution -umpy (c:\\programdata\\miniconda3\\lib\\site-packages)\n",
      "WARNING: Ignoring invalid distribution -umpy (c:\\programdata\\miniconda3\\lib\\site-packages)\n",
      "WARNING: Ignoring invalid distribution -umpy (c:\\programdata\\miniconda3\\lib\\site-packages)\n",
      "WARNING: Ignoring invalid distribution -umpy (c:\\programdata\\miniconda3\\lib\\site-packages)\n"
     ]
    }
   ],
   "source": [
    "!pip install sklearn"
   ]
  },
  {
   "cell_type": "code",
   "execution_count": 2,
   "id": "265d11a1",
   "metadata": {
    "ExecuteTime": {
     "end_time": "2022-01-16T14:04:40.567493Z",
     "start_time": "2022-01-16T14:04:39.677247Z"
    }
   },
   "outputs": [],
   "source": [
    "# 导入需要的工具包\n",
    "import pandas as pd # data processing\n",
    "import numpy as np\n",
    "# import pandas_profiling\n",
    "from sklearn.model_selection import train_test_split\n",
    "from sklearn.metrics import confusion_matrix\n",
    "from sklearn.preprocessing import StandardScaler\n",
    "from sklearn.naive_bayes import GaussianNB\n",
    "import warnings\n",
    "# me\n",
    "from sklearn.datasets import load_breast_cancer\n",
    "warnings.filterwarnings(\"ignore\")"
   ]
  },
  {
   "cell_type": "code",
   "execution_count": 3,
   "id": "60863954",
   "metadata": {
    "ExecuteTime": {
     "end_time": "2022-01-16T14:04:42.364690Z",
     "start_time": "2022-01-16T14:04:42.303889Z"
    }
   },
   "outputs": [],
   "source": [
    "data = pd.read_csv('./cardio_train.csv',sep=';')"
   ]
  },
  {
   "cell_type": "code",
   "execution_count": 19,
   "id": "a53085be",
   "metadata": {},
   "outputs": [
    {
     "data": {
      "text/html": [
       "<div>\n",
       "<style scoped>\n",
       "    .dataframe tbody tr th:only-of-type {\n",
       "        vertical-align: middle;\n",
       "    }\n",
       "\n",
       "    .dataframe tbody tr th {\n",
       "        vertical-align: top;\n",
       "    }\n",
       "\n",
       "    .dataframe thead th {\n",
       "        text-align: right;\n",
       "    }\n",
       "</style>\n",
       "<table border=\"1\" class=\"dataframe\">\n",
       "  <thead>\n",
       "    <tr style=\"text-align: right;\">\n",
       "      <th></th>\n",
       "      <th>id</th>\n",
       "      <th>age</th>\n",
       "      <th>gender</th>\n",
       "      <th>height</th>\n",
       "      <th>weight</th>\n",
       "      <th>ap_hi</th>\n",
       "      <th>ap_lo</th>\n",
       "      <th>cholesterol</th>\n",
       "      <th>gluc</th>\n",
       "      <th>smoke</th>\n",
       "      <th>alco</th>\n",
       "      <th>active</th>\n",
       "      <th>cardio</th>\n",
       "    </tr>\n",
       "  </thead>\n",
       "  <tbody>\n",
       "    <tr>\n",
       "      <th>0</th>\n",
       "      <td>0</td>\n",
       "      <td>18393</td>\n",
       "      <td>2</td>\n",
       "      <td>168</td>\n",
       "      <td>62.0</td>\n",
       "      <td>110</td>\n",
       "      <td>80</td>\n",
       "      <td>1</td>\n",
       "      <td>1</td>\n",
       "      <td>0</td>\n",
       "      <td>0</td>\n",
       "      <td>1</td>\n",
       "      <td>0</td>\n",
       "    </tr>\n",
       "    <tr>\n",
       "      <th>1</th>\n",
       "      <td>1</td>\n",
       "      <td>20228</td>\n",
       "      <td>1</td>\n",
       "      <td>156</td>\n",
       "      <td>85.0</td>\n",
       "      <td>140</td>\n",
       "      <td>90</td>\n",
       "      <td>3</td>\n",
       "      <td>1</td>\n",
       "      <td>0</td>\n",
       "      <td>0</td>\n",
       "      <td>1</td>\n",
       "      <td>1</td>\n",
       "    </tr>\n",
       "    <tr>\n",
       "      <th>2</th>\n",
       "      <td>2</td>\n",
       "      <td>18857</td>\n",
       "      <td>1</td>\n",
       "      <td>165</td>\n",
       "      <td>64.0</td>\n",
       "      <td>130</td>\n",
       "      <td>70</td>\n",
       "      <td>3</td>\n",
       "      <td>1</td>\n",
       "      <td>0</td>\n",
       "      <td>0</td>\n",
       "      <td>0</td>\n",
       "      <td>1</td>\n",
       "    </tr>\n",
       "    <tr>\n",
       "      <th>3</th>\n",
       "      <td>3</td>\n",
       "      <td>17623</td>\n",
       "      <td>2</td>\n",
       "      <td>169</td>\n",
       "      <td>82.0</td>\n",
       "      <td>150</td>\n",
       "      <td>100</td>\n",
       "      <td>1</td>\n",
       "      <td>1</td>\n",
       "      <td>0</td>\n",
       "      <td>0</td>\n",
       "      <td>1</td>\n",
       "      <td>1</td>\n",
       "    </tr>\n",
       "    <tr>\n",
       "      <th>4</th>\n",
       "      <td>4</td>\n",
       "      <td>17474</td>\n",
       "      <td>1</td>\n",
       "      <td>156</td>\n",
       "      <td>56.0</td>\n",
       "      <td>100</td>\n",
       "      <td>60</td>\n",
       "      <td>1</td>\n",
       "      <td>1</td>\n",
       "      <td>0</td>\n",
       "      <td>0</td>\n",
       "      <td>0</td>\n",
       "      <td>0</td>\n",
       "    </tr>\n",
       "  </tbody>\n",
       "</table>\n",
       "</div>"
      ],
      "text/plain": [
       "   id    age  gender  height  weight  ap_hi  ap_lo  cholesterol  gluc  smoke  \\\n",
       "0   0  18393       2     168    62.0    110     80            1     1      0   \n",
       "1   1  20228       1     156    85.0    140     90            3     1      0   \n",
       "2   2  18857       1     165    64.0    130     70            3     1      0   \n",
       "3   3  17623       2     169    82.0    150    100            1     1      0   \n",
       "4   4  17474       1     156    56.0    100     60            1     1      0   \n",
       "\n",
       "   alco  active  cardio  \n",
       "0     0       1       0  \n",
       "1     0       1       1  \n",
       "2     0       0       1  \n",
       "3     0       1       1  \n",
       "4     0       0       0  "
      ]
     },
     "execution_count": 19,
     "metadata": {},
     "output_type": "execute_result"
    }
   ],
   "source": [
    "data.head()"
   ]
  },
  {
   "cell_type": "code",
   "execution_count": 20,
   "id": "ebf95283",
   "metadata": {},
   "outputs": [
    {
     "data": {
      "text/plain": [
       "70000"
      ]
     },
     "execution_count": 20,
     "metadata": {},
     "output_type": "execute_result"
    }
   ],
   "source": [
    "len(data)"
   ]
  },
  {
   "cell_type": "code",
   "execution_count": 21,
   "id": "05888900",
   "metadata": {
    "scrolled": true
   },
   "outputs": [
    {
     "name": "stdout",
     "output_type": "stream",
     "text": [
      "<class 'pandas.core.frame.DataFrame'>\n",
      "RangeIndex: 70000 entries, 0 to 69999\n",
      "Data columns (total 12 columns):\n",
      " #   Column   Non-Null Count  Dtype  \n",
      "---  ------   --------------  -----  \n",
      " 0   年龄       70000 non-null  int64  \n",
      " 1   性别       70000 non-null  int64  \n",
      " 2   身高       70000 non-null  int64  \n",
      " 3   体重       70000 non-null  float64\n",
      " 4   高收缩压     70000 non-null  int64  \n",
      " 5   低收缩压     70000 non-null  int64  \n",
      " 6   胆固醇      70000 non-null  int64  \n",
      " 7   葡萄糖      70000 non-null  int64  \n",
      " 8   吸烟       70000 non-null  int64  \n",
      " 9   饮酒       70000 non-null  int64  \n",
      " 10  体力活动     70000 non-null  int64  \n",
      " 11  有无心血管疾病  70000 non-null  int64  \n",
      "dtypes: float64(1), int64(11)\n",
      "memory usage: 6.4 MB\n"
     ]
    }
   ],
   "source": [
    "# 数据预处理\n",
    "data.drop(columns=['id'],inplace=True) #删除id序列\n",
    "col = ['年龄','性别','身高','体重','高收缩压','低收缩压','胆固醇','葡萄糖','吸烟','饮酒','体力活动','有无心血管疾病']\n",
    "data.columns = col\n",
    "data.info() #查看数据基本信息"
   ]
  },
  {
   "cell_type": "code",
   "execution_count": 22,
   "id": "2d8c4721",
   "metadata": {},
   "outputs": [],
   "source": [
    "# 对于数值型变量的缺失值用中位数进行填充\n",
    "data[['身高','体重']] = data[['身高','体重']].fillna(data[['身高','体重']].median())\n",
    "# 对于分类型变量的缺失值用众数进行填充\n",
    "data['胆固醇'] = data['胆固醇'].fillna(data['胆固醇'].mode())"
   ]
  },
  {
   "cell_type": "code",
   "execution_count": 23,
   "id": "9f89d27a",
   "metadata": {
    "scrolled": true
   },
   "outputs": [
    {
     "data": {
      "text/plain": [
       "True"
      ]
     },
     "execution_count": 23,
     "metadata": {},
     "output_type": "execute_result"
    }
   ],
   "source": [
    "any(data.isnull())"
   ]
  },
  {
   "cell_type": "code",
   "execution_count": 24,
   "id": "a9c10417",
   "metadata": {
    "scrolled": false
   },
   "outputs": [
    {
     "data": {
      "text/html": [
       "<div>\n",
       "<style scoped>\n",
       "    .dataframe tbody tr th:only-of-type {\n",
       "        vertical-align: middle;\n",
       "    }\n",
       "\n",
       "    .dataframe tbody tr th {\n",
       "        vertical-align: top;\n",
       "    }\n",
       "\n",
       "    .dataframe thead th {\n",
       "        text-align: right;\n",
       "    }\n",
       "</style>\n",
       "<table border=\"1\" class=\"dataframe\">\n",
       "  <thead>\n",
       "    <tr style=\"text-align: right;\">\n",
       "      <th></th>\n",
       "      <th>年龄</th>\n",
       "      <th>性别</th>\n",
       "      <th>身高</th>\n",
       "      <th>体重</th>\n",
       "      <th>高收缩压</th>\n",
       "      <th>低收缩压</th>\n",
       "      <th>胆固醇</th>\n",
       "      <th>葡萄糖</th>\n",
       "      <th>吸烟</th>\n",
       "      <th>饮酒</th>\n",
       "      <th>体力活动</th>\n",
       "      <th>有无心血管疾病</th>\n",
       "    </tr>\n",
       "  </thead>\n",
       "  <tbody>\n",
       "    <tr>\n",
       "      <th>0</th>\n",
       "      <td>18393</td>\n",
       "      <td>2</td>\n",
       "      <td>168</td>\n",
       "      <td>62.0</td>\n",
       "      <td>110</td>\n",
       "      <td>80</td>\n",
       "      <td>1</td>\n",
       "      <td>1</td>\n",
       "      <td>0</td>\n",
       "      <td>0</td>\n",
       "      <td>1</td>\n",
       "      <td>0</td>\n",
       "    </tr>\n",
       "    <tr>\n",
       "      <th>1</th>\n",
       "      <td>20228</td>\n",
       "      <td>1</td>\n",
       "      <td>156</td>\n",
       "      <td>85.0</td>\n",
       "      <td>140</td>\n",
       "      <td>90</td>\n",
       "      <td>3</td>\n",
       "      <td>1</td>\n",
       "      <td>0</td>\n",
       "      <td>0</td>\n",
       "      <td>1</td>\n",
       "      <td>1</td>\n",
       "    </tr>\n",
       "    <tr>\n",
       "      <th>2</th>\n",
       "      <td>18857</td>\n",
       "      <td>1</td>\n",
       "      <td>165</td>\n",
       "      <td>64.0</td>\n",
       "      <td>130</td>\n",
       "      <td>70</td>\n",
       "      <td>3</td>\n",
       "      <td>1</td>\n",
       "      <td>0</td>\n",
       "      <td>0</td>\n",
       "      <td>0</td>\n",
       "      <td>1</td>\n",
       "    </tr>\n",
       "    <tr>\n",
       "      <th>3</th>\n",
       "      <td>17623</td>\n",
       "      <td>2</td>\n",
       "      <td>169</td>\n",
       "      <td>82.0</td>\n",
       "      <td>150</td>\n",
       "      <td>100</td>\n",
       "      <td>1</td>\n",
       "      <td>1</td>\n",
       "      <td>0</td>\n",
       "      <td>0</td>\n",
       "      <td>1</td>\n",
       "      <td>1</td>\n",
       "    </tr>\n",
       "    <tr>\n",
       "      <th>4</th>\n",
       "      <td>17474</td>\n",
       "      <td>1</td>\n",
       "      <td>156</td>\n",
       "      <td>56.0</td>\n",
       "      <td>100</td>\n",
       "      <td>60</td>\n",
       "      <td>1</td>\n",
       "      <td>1</td>\n",
       "      <td>0</td>\n",
       "      <td>0</td>\n",
       "      <td>0</td>\n",
       "      <td>0</td>\n",
       "    </tr>\n",
       "  </tbody>\n",
       "</table>\n",
       "</div>"
      ],
      "text/plain": [
       "      年龄  性别   身高    体重  高收缩压  低收缩压  胆固醇  葡萄糖  吸烟  饮酒  体力活动  有无心血管疾病\n",
       "0  18393   2  168  62.0   110    80    1    1   0   0     1        0\n",
       "1  20228   1  156  85.0   140    90    3    1   0   0     1        1\n",
       "2  18857   1  165  64.0   130    70    3    1   0   0     0        1\n",
       "3  17623   2  169  82.0   150   100    1    1   0   0     1        1\n",
       "4  17474   1  156  56.0   100    60    1    1   0   0     0        0"
      ]
     },
     "execution_count": 24,
     "metadata": {},
     "output_type": "execute_result"
    }
   ],
   "source": [
    "data.head()#说明：年龄的单位是天数"
   ]
  },
  {
   "cell_type": "code",
   "execution_count": 25,
   "id": "114e4f4c",
   "metadata": {},
   "outputs": [
    {
     "name": "stdout",
     "output_type": "stream",
     "text": [
      "年龄      0.238159\n",
      "性别      0.008109\n",
      "身高     -0.010821\n",
      "体重      0.181660\n",
      "高收缩压    0.054475\n",
      "低收缩压    0.065719\n",
      "胆固醇     0.221147\n",
      "葡萄糖     0.089307\n",
      "吸烟     -0.015486\n",
      "饮酒     -0.007330\n",
      "体力活动   -0.035653\n",
      "Name: 有无心血管疾病, dtype: float64\n"
     ]
    }
   ],
   "source": [
    "# 计算相关性系数\n",
    "correlations = data.corr()['有无心血管疾病'].drop('有无心血管疾病')\n",
    "print(correlations)"
   ]
  },
  {
   "cell_type": "code",
   "execution_count": 26,
   "id": "77353886",
   "metadata": {},
   "outputs": [],
   "source": [
    "# 切分数据集\n",
    "msk = np.random.rand(len(data))<0.85\n",
    "# print(np.random.rand(len(data)))\n",
    "df_train_test = data[msk]\n",
    "df_val = data[~msk]\n",
    "X = df_train_test.drop('有无心血管疾病',axis=1)\n",
    "y = df_train_test['有无心血管疾病']\n",
    "X_train,X_test,y_train,y_test = train_test_split(X,y,test_size=0.2,random_state=70)"
   ]
  },
  {
   "cell_type": "code",
   "execution_count": 27,
   "id": "dfa0e4d6",
   "metadata": {},
   "outputs": [],
   "source": [
    "# 数据标准化变换\n",
    "scale = StandardScaler()\n",
    "scale.fit(X_train)\n",
    "X_train_scaled = scale.transform(X_train)\n",
    "scale.fit(X_test)\n",
    "X_test_scaled = scale.transform(X_test)"
   ]
  },
  {
   "cell_type": "code",
   "execution_count": 28,
   "id": "5cefe4fb",
   "metadata": {},
   "outputs": [
    {
     "data": {
      "text/plain": [
       "0.5854089532144059"
      ]
     },
     "execution_count": 28,
     "metadata": {},
     "output_type": "execute_result"
    }
   ],
   "source": [
    "gnb=GaussianNB()\n",
    "gnb.fit(X_train_scaled,y_train)\n",
    "gnb.score(X_test_scaled,y_test)"
   ]
  },
  {
   "cell_type": "code",
   "execution_count": 29,
   "id": "34c3399d",
   "metadata": {},
   "outputs": [
    {
     "name": "stdout",
     "output_type": "stream",
     "text": [
      "年龄/天数0\n",
      "性别0\n",
      "身高0\n",
      "体重/公斤0\n",
      "高收缩压0\n",
      "低收缩压0\n",
      "胆固醇0\n",
      "葡萄糖0\n",
      "吸烟0\n",
      "饮酒0\n",
      "体力活动0\n",
      "可能不患病\n"
     ]
    }
   ],
   "source": [
    "user_data = pd.DataFrame({'年龄':[input('年龄/天数')],'性别':[input('性别')],'身高':[input('身高')],'体重':[input('体重/公斤')],'高收缩压':[input('高收缩压')],'低收缩压':[input('低收缩压')],'胆固醇':[input('胆固醇')],'葡萄糖':[input('葡萄糖')],'吸烟':[input('吸烟')],'饮酒':[input('饮酒')],'体力活动':[input('体力活动')]})\n",
    "if gnb.predict(user_data)[0] == 1:\n",
    "    print('可能患病')\n",
    "else:\n",
    "    print('可能不患病')"
   ]
  }
 ],
 "metadata": {
  "kernelspec": {
   "display_name": "Python 3 (ipykernel)",
   "language": "python",
   "name": "python3"
  },
  "language_info": {
   "codemirror_mode": {
    "name": "ipython",
    "version": 3
   },
   "file_extension": ".py",
   "mimetype": "text/x-python",
   "name": "python",
   "nbconvert_exporter": "python",
   "pygments_lexer": "ipython3",
   "version": "3.9.5"
  },
  "toc": {
   "base_numbering": 1,
   "nav_menu": {},
   "number_sections": true,
   "sideBar": true,
   "skip_h1_title": false,
   "title_cell": "Table of Contents",
   "title_sidebar": "Contents",
   "toc_cell": false,
   "toc_position": {},
   "toc_section_display": true,
   "toc_window_display": false
  }
 },
 "nbformat": 4,
 "nbformat_minor": 5
}
