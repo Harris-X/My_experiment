{
 "cells": [
  {
   "cell_type": "code",
   "execution_count": 2,
   "id": "f603ec23",
   "metadata": {
    "ExecuteTime": {
     "end_time": "2022-02-19T02:42:26.234913Z",
     "start_time": "2022-02-19T02:42:26.217969Z"
    },
    "scrolled": true
   },
   "outputs": [
    {
     "data": {
      "text/plain": [
       "87.68888888888888"
      ]
     },
     "execution_count": 2,
     "metadata": {},
     "output_type": "execute_result"
    }
   ],
   "source": [
    "1973/22.5"
   ]
  },
  {
   "cell_type": "code",
   "execution_count": 3,
   "id": "180928f1",
   "metadata": {
    "ExecuteTime": {
     "end_time": "2022-02-19T02:44:31.563487Z",
     "start_time": "2022-02-19T02:44:31.550531Z"
    },
    "scrolled": true
   },
   "outputs": [
    {
     "data": {
      "text/plain": [
       "2085.5"
      ]
     },
     "execution_count": 3,
     "metadata": {},
     "output_type": "execute_result"
    }
   ],
   "source": [
    "75*3+89*1.5+90*3+93*3+95*4+99*1+86*3+92*1+88*3+85*1`"
   ]
  },
  {
   "cell_type": "code",
   "execution_count": 4,
   "id": "33a1641a",
   "metadata": {
    "ExecuteTime": {
     "end_time": "2022-02-19T02:45:00.132923Z",
     "start_time": "2022-02-19T02:45:00.122951Z"
    },
    "scrolled": true
   },
   "outputs": [
    {
     "data": {
      "text/plain": [
       "88.74468085106383"
      ]
     },
     "execution_count": 4,
     "metadata": {},
     "output_type": "execute_result"
    }
   ],
   "source": [
    "2085.5/23.5"
   ]
  },
  {
   "cell_type": "code",
   "execution_count": 5,
   "id": "508892bf",
   "metadata": {
    "ExecuteTime": {
     "end_time": "2022-02-19T02:48:57.062331Z",
     "start_time": "2022-02-19T02:48:57.049378Z"
    },
    "scrolled": false
   },
   "outputs": [
    {
     "data": {
      "text/plain": [
       "2080.0"
      ]
     },
     "execution_count": 5,
     "metadata": {},
     "output_type": "execute_result"
    }
   ],
   "source": [
    "88*3+92*1.5+86*3+97*3+91*4+99*1+81*3+88*1+82*3+89*1"
   ]
  },
  {
   "cell_type": "code",
   "execution_count": 6,
   "id": "23053fb4",
   "metadata": {
    "ExecuteTime": {
     "end_time": "2022-02-19T02:49:31.925417Z",
     "start_time": "2022-02-19T02:49:31.911466Z"
    }
   },
   "outputs": [
    {
     "data": {
      "text/plain": [
       "88.51063829787235"
      ]
     },
     "execution_count": 6,
     "metadata": {},
     "output_type": "execute_result"
    }
   ],
   "source": [
    "2080/23.5"
   ]
  },
  {
   "cell_type": "code",
   "execution_count": 7,
   "id": "8eae29fd",
   "metadata": {
    "ExecuteTime": {
     "end_time": "2022-02-19T05:46:38.858176Z",
     "start_time": "2022-02-19T05:46:38.839237Z"
    },
    "scrolled": true
   },
   "outputs": [
    {
     "data": {
      "text/plain": [
       "1971.0"
      ]
     },
     "execution_count": 7,
     "metadata": {},
     "output_type": "execute_result"
    }
   ],
   "source": [
    "78*3+90*1.5+81*3+98*3+94*4+93*3+86*1+79*3+87*1"
   ]
  },
  {
   "cell_type": "code",
   "execution_count": 8,
   "id": "6124110c",
   "metadata": {
    "ExecuteTime": {
     "end_time": "2022-02-19T05:47:01.145592Z",
     "start_time": "2022-02-19T05:47:01.140608Z"
    }
   },
   "outputs": [
    {
     "data": {
      "text/plain": [
       "87.6"
      ]
     },
     "execution_count": 8,
     "metadata": {},
     "output_type": "execute_result"
    }
   ],
   "source": [
    "1971/22.5"
   ]
  },
  {
   "cell_type": "code",
   "execution_count": null,
   "id": "f4eedd4c",
   "metadata": {},
   "outputs": [],
   "source": [
    "from OpenGL.GL import *\n",
    "from OpenGL.GLUT import *\n",
    "def draw():\n",
    "    # ---------------------------------------------------------------\n",
    "    glBegin(GL_LINES)                    # 开始绘制线段（世界坐标系）\n",
    "    # 以红色绘制x轴\n",
    "    glColor4f(1.0, 0.0, 0.0, 1.0)        # 设置当前颜色为红色不透明\n",
    "    glVertex3f(-0.8, 0.0, 0.0)           # 设置x轴顶点（x轴负方向）\n",
    "    glVertex3f(0.8, 0.0, 0.0)            # 设置x轴顶点（x轴正方向）\n",
    "\n",
    "    # 以绿色绘制y轴\n",
    "    glColor4f(0.0, 1.0, 0.0, 1.0)        # 设置当前颜色为绿色不透明\n",
    "    glVertex3f(0.0, -0.8, 0.0)           # 设置y轴顶点（y轴负方向）\n",
    "    glVertex3f(0.0, 0.8, 0.0)            # 设置y轴顶点（y轴正方向）\n",
    "\n",
    "    # 以蓝色绘制z轴\n",
    "    glColor4f(0.0, 0.0, 1.0, 1.0)        # 设置当前颜色为蓝色不透明\n",
    "    glVertex3f(0.0, 0.0, -0.8)           # 设置z轴顶点（z轴负方向）\n",
    "    glVertex3f(0.0, 0.0, 0.8)            # 设置z轴顶点（z轴正方向）\n",
    "    glEnd()                              # 结束绘制线段\n",
    "\n",
    "    # ---------------------------------------------------------------\n",
    "    glBegin(GL_TRIANGLES)                # 开始绘制三角形（z轴负半区）\n",
    "    glColor4f(1.0, 0.0, 0.0, 1.0)        # 设置当前颜色为红色不透明\n",
    "    glVertex3f(-0.5, -0.366, -0.5)       # 设置三角形顶点\n",
    "    glColor4f(0.0, 1.0, 0.0, 1.0)        # 设置当前颜色为绿色不透明\n",
    "    glVertex3f(0.5, -0.366, -0.5)        # 设置三角形顶点\n",
    "    glColor4f(0.0, 0.0, 1.0, 1.0)        # 设置当前颜色为蓝色不透明\n",
    "    glVertex3f(0.0, 0.5, -0.5)           # 设置三角形顶点\n",
    "    glEnd()     \n",
    "                         # 结束绘制三角形\n",
    "    # ---------------------------------------------------------------\n",
    "    glFlush()                            # 清空缓冲区，将指令送往硬件立即执行\n",
    "if __name__ == \"__main__\":\n",
    "    glutInit()                           # 1. 初始化glut库\n",
    "    glutCreateWindow('Quidam Of OpenGL') # 2. 创建glut窗口\n",
    "    glutDisplayFunc(draw)                # 3. 注册回调函数draw()\n",
    "    glutMainLoop()                       # 4. 进入glut主循环"
   ]
  }
 ],
 "metadata": {
  "kernelspec": {
   "display_name": "Python 3 (ipykernel)",
   "language": "python",
   "name": "python3"
  },
  "language_info": {
   "codemirror_mode": {
    "name": "ipython",
    "version": 3
   },
   "file_extension": ".py",
   "mimetype": "text/x-python",
   "name": "python",
   "nbconvert_exporter": "python",
   "pygments_lexer": "ipython3",
   "version": "3.9.5"
  },
  "toc": {
   "base_numbering": 1,
   "nav_menu": {},
   "number_sections": true,
   "sideBar": true,
   "skip_h1_title": false,
   "title_cell": "Table of Contents",
   "title_sidebar": "Contents",
   "toc_cell": false,
   "toc_position": {},
   "toc_section_display": true,
   "toc_window_display": false
  },
  "varInspector": {
   "cols": {
    "lenName": 16,
    "lenType": 16,
    "lenVar": 40
   },
   "kernels_config": {
    "python": {
     "delete_cmd_postfix": "",
     "delete_cmd_prefix": "del ",
     "library": "var_list.py",
     "varRefreshCmd": "print(var_dic_list())"
    },
    "r": {
     "delete_cmd_postfix": ") ",
     "delete_cmd_prefix": "rm(",
     "library": "var_list.r",
     "varRefreshCmd": "cat(var_dic_list()) "
    }
   },
   "types_to_exclude": [
    "module",
    "function",
    "builtin_function_or_method",
    "instance",
    "_Feature"
   ],
   "window_display": false
  }
 },
 "nbformat": 4,
 "nbformat_minor": 5
}
