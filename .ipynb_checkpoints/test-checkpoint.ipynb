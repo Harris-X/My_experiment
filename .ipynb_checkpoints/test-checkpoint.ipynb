{
 "cells": [
  {
   "cell_type": "code",
   "execution_count": 2,
   "id": "f603ec23",
   "metadata": {
    "ExecuteTime": {
     "end_time": "2022-02-19T02:42:26.234913Z",
     "start_time": "2022-02-19T02:42:26.217969Z"
    },
    "scrolled": true
   },
   "outputs": [
    {
     "data": {
      "text/plain": [
       "87.68888888888888"
      ]
     },
     "execution_count": 2,
     "metadata": {},
     "output_type": "execute_result"
    }
   ],
   "source": [
    "1973/22.5"
   ]
  },
  {
   "cell_type": "code",
   "execution_count": 3,
   "id": "180928f1",
   "metadata": {
    "ExecuteTime": {
     "end_time": "2022-02-19T02:44:31.563487Z",
     "start_time": "2022-02-19T02:44:31.550531Z"
    },
    "scrolled": true
   },
   "outputs": [
    {
     "data": {
      "text/plain": [
       "2085.5"
      ]
     },
     "execution_count": 3,
     "metadata": {},
     "output_type": "execute_result"
    }
   ],
   "source": [
    "75*3+89*1.5+90*3+93*3+95*4+99*1+86*3+92*1+88*3+85*1`"
   ]
  },
  {
   "cell_type": "code",
   "execution_count": 4,
   "id": "33a1641a",
   "metadata": {
    "ExecuteTime": {
     "end_time": "2022-02-19T02:45:00.132923Z",
     "start_time": "2022-02-19T02:45:00.122951Z"
    },
    "scrolled": true
   },
   "outputs": [
    {
     "data": {
      "text/plain": [
       "88.74468085106383"
      ]
     },
     "execution_count": 4,
     "metadata": {},
     "output_type": "execute_result"
    }
   ],
   "source": [
    "2085.5/23.5"
   ]
  },
  {
   "cell_type": "code",
   "execution_count": 5,
   "id": "508892bf",
   "metadata": {
    "ExecuteTime": {
     "end_time": "2022-02-19T02:48:57.062331Z",
     "start_time": "2022-02-19T02:48:57.049378Z"
    },
    "scrolled": false
   },
   "outputs": [
    {
     "data": {
      "text/plain": [
       "2080.0"
      ]
     },
     "execution_count": 5,
     "metadata": {},
     "output_type": "execute_result"
    }
   ],
   "source": [
    "88*3+92*1.5+86*3+97*3+91*4+99*1+81*3+88*1+82*3+89*1"
   ]
  },
  {
   "cell_type": "code",
   "execution_count": 6,
   "id": "23053fb4",
   "metadata": {
    "ExecuteTime": {
     "end_time": "2022-02-19T02:49:31.925417Z",
     "start_time": "2022-02-19T02:49:31.911466Z"
    }
   },
   "outputs": [
    {
     "data": {
      "text/plain": [
       "88.51063829787235"
      ]
     },
     "execution_count": 6,
     "metadata": {},
     "output_type": "execute_result"
    }
   ],
   "source": [
    "2080/23.5"
   ]
  },
  {
   "cell_type": "code",
   "execution_count": 7,
   "id": "8eae29fd",
   "metadata": {
    "ExecuteTime": {
     "end_time": "2022-02-19T05:46:38.858176Z",
     "start_time": "2022-02-19T05:46:38.839237Z"
    },
    "scrolled": true
   },
   "outputs": [
    {
     "data": {
      "text/plain": [
       "1971.0"
      ]
     },
     "execution_count": 7,
     "metadata": {},
     "output_type": "execute_result"
    }
   ],
   "source": [
    "78*3+90*1.5+81*3+98*3+94*4+93*3+86*1+79*3+87*1"
   ]
  },
  {
   "cell_type": "code",
   "execution_count": 8,
   "id": "6124110c",
   "metadata": {
    "ExecuteTime": {
     "end_time": "2022-02-19T05:47:01.145592Z",
     "start_time": "2022-02-19T05:47:01.140608Z"
    }
   },
   "outputs": [
    {
     "data": {
      "text/plain": [
       "87.6"
      ]
     },
     "execution_count": 8,
     "metadata": {},
     "output_type": "execute_result"
    }
   ],
   "source": [
    "1971/22.5"
   ]
  },
  {
   "cell_type": "code",
   "execution_count": 13,
   "id": "cc761e2f",
   "metadata": {
    "ExecuteTime": {
     "end_time": "2022-02-26T03:21:12.809010Z",
     "start_time": "2022-02-26T03:21:12.799010Z"
    }
   },
   "outputs": [
    {
     "ename": "AttributeError",
     "evalue": "'cnt' object has no attribute 'ff'",
     "output_type": "error",
     "traceback": [
      "\u001b[1;31m---------------------------------------------------------------------------\u001b[0m",
      "\u001b[1;31mAttributeError\u001b[0m                            Traceback (most recent call last)",
      "\u001b[1;32m~\\AppData\\Local\\Temp/ipykernel_21868/3964391288.py\u001b[0m in \u001b[0;36m<module>\u001b[1;34m\u001b[0m\n\u001b[0;32m     27\u001b[0m \u001b[1;31m#             return 0\u001b[0m\u001b[1;33m\u001b[0m\u001b[1;33m\u001b[0m\u001b[1;33m\u001b[0m\u001b[0m\n\u001b[0;32m     28\u001b[0m \u001b[1;33m\u001b[0m\u001b[0m\n\u001b[1;32m---> 29\u001b[1;33m \u001b[0mcnt\u001b[0m\u001b[1;33m(\u001b[0m\u001b[1;36m2\u001b[0m\u001b[1;33m,\u001b[0m\u001b[1;36m3\u001b[0m\u001b[1;33m)\u001b[0m\u001b[1;33m.\u001b[0m\u001b[0mfunc\u001b[0m\u001b[1;33m(\u001b[0m\u001b[1;33m)\u001b[0m\u001b[1;33m\u001b[0m\u001b[1;33m\u001b[0m\u001b[0m\n\u001b[0m\u001b[0;32m     30\u001b[0m \u001b[1;33m\u001b[0m\u001b[0m\n",
      "\u001b[1;32m~\\AppData\\Local\\Temp/ipykernel_21868/3964391288.py\u001b[0m in \u001b[0;36mfunc\u001b[1;34m(self)\u001b[0m\n\u001b[0;32m     16\u001b[0m         \u001b[0mx0\u001b[0m\u001b[1;33m=\u001b[0m\u001b[0mfloat\u001b[0m\u001b[1;33m(\u001b[0m\u001b[1;33m(\u001b[0m\u001b[0mself\u001b[0m\u001b[1;33m.\u001b[0m\u001b[0mx1\u001b[0m\u001b[1;33m+\u001b[0m\u001b[0mself\u001b[0m\u001b[1;33m.\u001b[0m\u001b[0mx2\u001b[0m\u001b[1;33m)\u001b[0m\u001b[1;33m/\u001b[0m\u001b[1;36m2\u001b[0m\u001b[1;33m)\u001b[0m\u001b[1;33m\u001b[0m\u001b[1;33m\u001b[0m\u001b[0m\n\u001b[0;32m     17\u001b[0m \u001b[1;31m#         print(x0)\u001b[0m\u001b[1;33m\u001b[0m\u001b[1;33m\u001b[0m\u001b[1;33m\u001b[0m\u001b[0m\n\u001b[1;32m---> 18\u001b[1;33m         \u001b[0my0\u001b[0m\u001b[1;33m=\u001b[0m\u001b[0mself\u001b[0m\u001b[1;33m.\u001b[0m\u001b[0mff\u001b[0m\u001b[1;33m(\u001b[0m\u001b[0mx0\u001b[0m\u001b[1;33m)\u001b[0m\u001b[1;33m\u001b[0m\u001b[1;33m\u001b[0m\u001b[0m\n\u001b[0m\u001b[0;32m     19\u001b[0m         \u001b[0mprint\u001b[0m\u001b[1;33m(\u001b[0m\u001b[0my0\u001b[0m\u001b[1;33m)\u001b[0m\u001b[1;33m\u001b[0m\u001b[1;33m\u001b[0m\u001b[0m\n\u001b[0;32m     20\u001b[0m \u001b[1;31m#         if y0*f(self.x1)<0:\u001b[0m\u001b[1;33m\u001b[0m\u001b[1;33m\u001b[0m\u001b[1;33m\u001b[0m\u001b[0m\n",
      "\u001b[1;31mAttributeError\u001b[0m: 'cnt' object has no attribute 'ff'"
     ]
    }
   ],
   "source": [
    "from math import *\n",
    "\n",
    "\n",
    "k=0\n",
    "class cnt(object):\n",
    "    def __init__(self,x1,x2):\n",
    "        self.k=0\n",
    "        self.x1=x1\n",
    "        self.x2=x2\n",
    "    def f(self,x):\n",
    "        y=pow(x,3)-2*x-5\n",
    "        return y\n",
    "    \n",
    "    def func(self):\n",
    "        self.k+=1\n",
    "        x0=float((self.x1+self.x2)/2)\n",
    "#         print(x0)\n",
    "        y0=self.f(x0)\n",
    "        print(y0)\n",
    "#         if y0*f(self.x1)<0:\n",
    "#             self.x2=x0\n",
    "#         elif y0*f(x2)<0:\n",
    "#             self.x1=x0\n",
    "#         func(self.x1,self.x2)\n",
    "#         print(\"{} y={}\".format(k,y0))\n",
    "#         if(self.k>10):\n",
    "#             return 0\n",
    "\n",
    "cnt(2,3).func()\n",
    "    "
   ]
  }
 ],
 "metadata": {
  "kernelspec": {
   "display_name": "Python 3 (ipykernel)",
   "language": "python",
   "name": "python3"
  },
  "language_info": {
   "codemirror_mode": {
    "name": "ipython",
    "version": 3
   },
   "file_extension": ".py",
   "mimetype": "text/x-python",
   "name": "python",
   "nbconvert_exporter": "python",
   "pygments_lexer": "ipython3",
   "version": "3.9.5"
  },
  "toc": {
   "base_numbering": 1,
   "nav_menu": {},
   "number_sections": true,
   "sideBar": true,
   "skip_h1_title": false,
   "title_cell": "Table of Contents",
   "title_sidebar": "Contents",
   "toc_cell": false,
   "toc_position": {},
   "toc_section_display": true,
   "toc_window_display": false
  },
  "varInspector": {
   "cols": {
    "lenName": 16,
    "lenType": 16,
    "lenVar": 40
   },
   "kernels_config": {
    "python": {
     "delete_cmd_postfix": "",
     "delete_cmd_prefix": "del ",
     "library": "var_list.py",
     "varRefreshCmd": "print(var_dic_list())"
    },
    "r": {
     "delete_cmd_postfix": ") ",
     "delete_cmd_prefix": "rm(",
     "library": "var_list.r",
     "varRefreshCmd": "cat(var_dic_list()) "
    }
   },
   "types_to_exclude": [
    "module",
    "function",
    "builtin_function_or_method",
    "instance",
    "_Feature"
   ],
   "window_display": false
  }
 },
 "nbformat": 4,
 "nbformat_minor": 5
}
